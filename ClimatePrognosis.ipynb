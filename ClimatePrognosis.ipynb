{
  "nbformat": 4,
  "nbformat_minor": 0,
  "metadata": {
    "colab": {
      "provenance": [],
      "authorship_tag": "ABX9TyPjcZ2Hicl1my6s8yBvZrJx",
      "include_colab_link": true
    },
    "kernelspec": {
      "name": "python3",
      "display_name": "Python 3"
    },
    "language_info": {
      "name": "python"
    }
  },
  "cells": [
    {
      "cell_type": "markdown",
      "metadata": {
        "id": "view-in-github",
        "colab_type": "text"
      },
      "source": [
        "<a href=\"https://colab.research.google.com/github/soy-min/climate-prognosis/blob/main/ClimatePrognosis.ipynb\" target=\"_parent\"><img src=\"https://colab.research.google.com/assets/colab-badge.svg\" alt=\"Open In Colab\"/></a>"
      ]
    },
    {
      "cell_type": "markdown",
      "source": [
        "Imports"
      ],
      "metadata": {
        "id": "jKsS6xKYRav4"
      }
    },
    {
      "cell_type": "code",
      "source": [
        "import pandas as pd\n",
        "import numpy as np\n",
        "import matplotlib.pyplot as plt\n",
        "import datetime\n",
        "from sklearn.preprocessing import MinMaxScaler\n",
        "from sklearn.model_selection import train_test_split\n",
        "from keras.models import Sequential\n",
        "from keras.layers import Dense, LSTM"
      ],
      "metadata": {
        "id": "bbdVuroORYn3"
      },
      "execution_count": 309,
      "outputs": []
    },
    {
      "cell_type": "markdown",
      "source": [
        "Globale Parameter"
      ],
      "metadata": {
        "id": "x1z8yZKPXtHN"
      }
    },
    {
      "cell_type": "code",
      "source": [],
      "metadata": {
        "id": "hTz6tmVMHhye"
      },
      "execution_count": 309,
      "outputs": []
    },
    {
      "cell_type": "code",
      "source": [
        "START_YEAR_OBSERVATION='1963-01-01'\n",
        "OBSERVATION_LOCATION_NAME='DEFAULT'"
      ],
      "metadata": {
        "id": "9pTEoNjFXuFQ"
      },
      "execution_count": 310,
      "outputs": []
    },
    {
      "cell_type": "code",
      "source": [],
      "metadata": {
        "id": "XRyS1t1eFvDu"
      },
      "execution_count": 310,
      "outputs": []
    },
    {
      "cell_type": "markdown",
      "source": [
        "CSV laden"
      ],
      "metadata": {
        "id": "FjvqHwA-Rg7U"
      }
    },
    {
      "cell_type": "code",
      "source": [
        "# Laden der CSV-Datei\n",
        "#df = pd.read_csv('SW000002361.csv')\n",
        "df = pd.read_csv('USC00122825.csv')\n",
        "OBSERVATION_LOCATION_NAME=df.iloc[1]['NAME']\n",
        "print(df.head())"
      ],
      "metadata": {
        "colab": {
          "base_uri": "https://localhost:8080/"
        },
        "id": "VaOlCekERipA",
        "outputId": "72dfe672-65b6-40f7-f456-77f96d542ac7"
      },
      "execution_count": 311,
      "outputs": [
        {
          "output_type": "stream",
          "name": "stdout",
          "text": [
            "       STATION     DATE  LATITUDE  LONGITUDE  ELEVATION  \\\n",
            "0  USC00122825  1893-01   40.2538   -85.1484      294.1   \n",
            "1  USC00122825  1893-02   40.2538   -85.1484      294.1   \n",
            "2  USC00122825  1893-04   40.2538   -85.1484      294.1   \n",
            "3  USC00122825  1893-05   40.2538   -85.1484      294.1   \n",
            "4  USC00122825  1893-06   40.2538   -85.1484      294.1   \n",
            "\n",
            "                    NAME  CDSD  CDSD_ATTRIBUTES  CLDD CLDD_ATTRIBUTES  ...  \\\n",
            "0  FARMLAND 5 NNW, IN US   0.0              6.0   0.0              ,6  ...   \n",
            "1  FARMLAND 5 NNW, IN US   0.0              6.0   0.0             2,6  ...   \n",
            "2  FARMLAND 5 NNW, IN US   NaN              NaN   5.3              ,6  ...   \n",
            "3  FARMLAND 5 NNW, IN US   NaN              NaN   9.7              ,6  ...   \n",
            "4  FARMLAND 5 NNW, IN US   NaN              NaN   NaN             NaN  ...   \n",
            "\n",
            "    SNOW SNOW_ATTRIBUTES   TAVG TAVG_ATTRIBUTES   TMAX TMAX_ATTRIBUTES   TMIN  \\\n",
            "0    NaN             NaN  -8.37              ,6  -3.54            ,,,6 -13.20   \n",
            "1    NaN             NaN  -1.49             2,6   3.53           1,,,6  -6.50   \n",
            "2  178.0            ,,,6  10.47              ,6  15.67            ,,,6   5.26   \n",
            "3    NaN             NaN  14.81              ,6  20.59            ,,,6   9.03   \n",
            "4    NaN             NaN    NaN             NaN    NaN             NaN    NaN   \n",
            "\n",
            "  TMIN_ATTRIBUTES  WDMV WDMV_ATTRIBUTES  \n",
            "0            ,,,6   NaN             NaN  \n",
            "1           1,,,6   NaN             NaN  \n",
            "2            ,,,6   NaN             NaN  \n",
            "3            ,,,6   NaN             NaN  \n",
            "4             NaN   NaN             NaN  \n",
            "\n",
            "[5 rows x 114 columns]\n"
          ]
        }
      ]
    },
    {
      "cell_type": "markdown",
      "source": [
        "Reduzieren auf relevante Informationen"
      ],
      "metadata": {
        "id": "ZUyF3PV7RoMA"
      }
    },
    {
      "cell_type": "code",
      "source": [
        "# Auswahl der relevanten Spalten (z.B. Datum, Temperatur)\n",
        "df = df[['DATE', 'TAVG']]\n",
        "# Umbenennen der Spalten\n",
        "df = df.rename(columns={'DATE': 'date', 'TAVG': 'temp'})\n",
        "# Festlegen des Indexes als Datum\n",
        "df['date'] = pd.to_datetime(df['date'])\n",
        "df.set_index('date', inplace=True)\n",
        "# reduzieren auf > START_YEAR_OBSERVATION\n",
        "df=df.loc[START_YEAR_OBSERVATION:]\n",
        "# NANs interpolieren\n",
        "df=df.interpolate()\n",
        "# einblick in die Daten\n",
        "df\n",
        "\n",
        "#TODO:\n",
        "#- Sicherstellen, dass Daten vollständig verfügbar sind (keine NANs am Anfang)"
      ],
      "metadata": {
        "colab": {
          "base_uri": "https://localhost:8080/",
          "height": 455
        },
        "id": "kluyEAWrRqzS",
        "outputId": "63f0ee77-a722-432c-9c92-3e1365b6929d"
      },
      "execution_count": 312,
      "outputs": [
        {
          "output_type": "execute_result",
          "data": {
            "text/plain": [
              "             temp\n",
              "date             \n",
              "1963-01-01  -8.44\n",
              "1963-02-01  -7.36\n",
              "1963-03-01   4.08\n",
              "1963-04-01   9.93\n",
              "1963-05-01  13.69\n",
              "...           ...\n",
              "2022-11-01   5.68\n",
              "2022-12-01  -1.25\n",
              "2023-01-01   1.82\n",
              "2023-02-01   2.51\n",
              "2023-03-01   3.62\n",
              "\n",
              "[722 rows x 1 columns]"
            ],
            "text/html": [
              "\n",
              "  <div id=\"df-20119d3d-8e3b-49c5-a672-c6a156ca8afe\">\n",
              "    <div class=\"colab-df-container\">\n",
              "      <div>\n",
              "<style scoped>\n",
              "    .dataframe tbody tr th:only-of-type {\n",
              "        vertical-align: middle;\n",
              "    }\n",
              "\n",
              "    .dataframe tbody tr th {\n",
              "        vertical-align: top;\n",
              "    }\n",
              "\n",
              "    .dataframe thead th {\n",
              "        text-align: right;\n",
              "    }\n",
              "</style>\n",
              "<table border=\"1\" class=\"dataframe\">\n",
              "  <thead>\n",
              "    <tr style=\"text-align: right;\">\n",
              "      <th></th>\n",
              "      <th>temp</th>\n",
              "    </tr>\n",
              "    <tr>\n",
              "      <th>date</th>\n",
              "      <th></th>\n",
              "    </tr>\n",
              "  </thead>\n",
              "  <tbody>\n",
              "    <tr>\n",
              "      <th>1963-01-01</th>\n",
              "      <td>-8.44</td>\n",
              "    </tr>\n",
              "    <tr>\n",
              "      <th>1963-02-01</th>\n",
              "      <td>-7.36</td>\n",
              "    </tr>\n",
              "    <tr>\n",
              "      <th>1963-03-01</th>\n",
              "      <td>4.08</td>\n",
              "    </tr>\n",
              "    <tr>\n",
              "      <th>1963-04-01</th>\n",
              "      <td>9.93</td>\n",
              "    </tr>\n",
              "    <tr>\n",
              "      <th>1963-05-01</th>\n",
              "      <td>13.69</td>\n",
              "    </tr>\n",
              "    <tr>\n",
              "      <th>...</th>\n",
              "      <td>...</td>\n",
              "    </tr>\n",
              "    <tr>\n",
              "      <th>2022-11-01</th>\n",
              "      <td>5.68</td>\n",
              "    </tr>\n",
              "    <tr>\n",
              "      <th>2022-12-01</th>\n",
              "      <td>-1.25</td>\n",
              "    </tr>\n",
              "    <tr>\n",
              "      <th>2023-01-01</th>\n",
              "      <td>1.82</td>\n",
              "    </tr>\n",
              "    <tr>\n",
              "      <th>2023-02-01</th>\n",
              "      <td>2.51</td>\n",
              "    </tr>\n",
              "    <tr>\n",
              "      <th>2023-03-01</th>\n",
              "      <td>3.62</td>\n",
              "    </tr>\n",
              "  </tbody>\n",
              "</table>\n",
              "<p>722 rows × 1 columns</p>\n",
              "</div>\n",
              "      <button class=\"colab-df-convert\" onclick=\"convertToInteractive('df-20119d3d-8e3b-49c5-a672-c6a156ca8afe')\"\n",
              "              title=\"Convert this dataframe to an interactive table.\"\n",
              "              style=\"display:none;\">\n",
              "        \n",
              "  <svg xmlns=\"http://www.w3.org/2000/svg\" height=\"24px\"viewBox=\"0 0 24 24\"\n",
              "       width=\"24px\">\n",
              "    <path d=\"M0 0h24v24H0V0z\" fill=\"none\"/>\n",
              "    <path d=\"M18.56 5.44l.94 2.06.94-2.06 2.06-.94-2.06-.94-.94-2.06-.94 2.06-2.06.94zm-11 1L8.5 8.5l.94-2.06 2.06-.94-2.06-.94L8.5 2.5l-.94 2.06-2.06.94zm10 10l.94 2.06.94-2.06 2.06-.94-2.06-.94-.94-2.06-.94 2.06-2.06.94z\"/><path d=\"M17.41 7.96l-1.37-1.37c-.4-.4-.92-.59-1.43-.59-.52 0-1.04.2-1.43.59L10.3 9.45l-7.72 7.72c-.78.78-.78 2.05 0 2.83L4 21.41c.39.39.9.59 1.41.59.51 0 1.02-.2 1.41-.59l7.78-7.78 2.81-2.81c.8-.78.8-2.07 0-2.86zM5.41 20L4 18.59l7.72-7.72 1.47 1.35L5.41 20z\"/>\n",
              "  </svg>\n",
              "      </button>\n",
              "      \n",
              "  <style>\n",
              "    .colab-df-container {\n",
              "      display:flex;\n",
              "      flex-wrap:wrap;\n",
              "      gap: 12px;\n",
              "    }\n",
              "\n",
              "    .colab-df-convert {\n",
              "      background-color: #E8F0FE;\n",
              "      border: none;\n",
              "      border-radius: 50%;\n",
              "      cursor: pointer;\n",
              "      display: none;\n",
              "      fill: #1967D2;\n",
              "      height: 32px;\n",
              "      padding: 0 0 0 0;\n",
              "      width: 32px;\n",
              "    }\n",
              "\n",
              "    .colab-df-convert:hover {\n",
              "      background-color: #E2EBFA;\n",
              "      box-shadow: 0px 1px 2px rgba(60, 64, 67, 0.3), 0px 1px 3px 1px rgba(60, 64, 67, 0.15);\n",
              "      fill: #174EA6;\n",
              "    }\n",
              "\n",
              "    [theme=dark] .colab-df-convert {\n",
              "      background-color: #3B4455;\n",
              "      fill: #D2E3FC;\n",
              "    }\n",
              "\n",
              "    [theme=dark] .colab-df-convert:hover {\n",
              "      background-color: #434B5C;\n",
              "      box-shadow: 0px 1px 3px 1px rgba(0, 0, 0, 0.15);\n",
              "      filter: drop-shadow(0px 1px 2px rgba(0, 0, 0, 0.3));\n",
              "      fill: #FFFFFF;\n",
              "    }\n",
              "  </style>\n",
              "\n",
              "      <script>\n",
              "        const buttonEl =\n",
              "          document.querySelector('#df-20119d3d-8e3b-49c5-a672-c6a156ca8afe button.colab-df-convert');\n",
              "        buttonEl.style.display =\n",
              "          google.colab.kernel.accessAllowed ? 'block' : 'none';\n",
              "\n",
              "        async function convertToInteractive(key) {\n",
              "          const element = document.querySelector('#df-20119d3d-8e3b-49c5-a672-c6a156ca8afe');\n",
              "          const dataTable =\n",
              "            await google.colab.kernel.invokeFunction('convertToInteractive',\n",
              "                                                     [key], {});\n",
              "          if (!dataTable) return;\n",
              "\n",
              "          const docLinkHtml = 'Like what you see? Visit the ' +\n",
              "            '<a target=\"_blank\" href=https://colab.research.google.com/notebooks/data_table.ipynb>data table notebook</a>'\n",
              "            + ' to learn more about interactive tables.';\n",
              "          element.innerHTML = '';\n",
              "          dataTable['output_type'] = 'display_data';\n",
              "          await google.colab.output.renderOutput(dataTable, element);\n",
              "          const docLink = document.createElement('div');\n",
              "          docLink.innerHTML = docLinkHtml;\n",
              "          element.appendChild(docLink);\n",
              "        }\n",
              "      </script>\n",
              "    </div>\n",
              "  </div>\n",
              "  "
            ]
          },
          "metadata": {},
          "execution_count": 312
        }
      ]
    },
    {
      "cell_type": "markdown",
      "source": [
        "Visualisieren der Daten"
      ],
      "metadata": {
        "id": "3S-92BjeVNmn"
      }
    },
    {
      "cell_type": "code",
      "source": [
        "# Plotten der Ergebnisse\n",
        "plt.plot(df.index, df['temp'], color='blue', label='Temperature in '+OBSERVATION_LOCATION_NAME)\n",
        "plt.plot(df.index, df.rolling(window=48).mean()['temp'], color='red', label='MA Temperature in '+OBSERVATION_LOCATION_NAME)\n",
        "plt.title('Temperature Data '+OBSERVATION_LOCATION_NAME)\n",
        "plt.xlabel('Date')\n",
        "plt.ylabel('Temperature')\n",
        "plt.legend()\n",
        "plt.show()"
      ],
      "metadata": {
        "colab": {
          "base_uri": "https://localhost:8080/",
          "height": 472
        },
        "id": "SsFgEgjGVO3v",
        "outputId": "4e8d23ff-3f01-47e8-8cdd-680ecc4ca69a"
      },
      "execution_count": 313,
      "outputs": [
        {
          "output_type": "display_data",
          "data": {
            "text/plain": [
              "<Figure size 640x480 with 1 Axes>"
            ],
            "image/png": "[encoded data removed]"
          },
          "metadata": {}
        }
      ]
    },
    {
      "cell_type": "markdown",
      "source": [
        "Trainings und Testdaten separieren"
      ],
      "metadata": {
        "id": "t8Z8PmAwSg-3"
      }
    },
    {
      "cell_type": "code",
      "source": [
        "# Teilen der Daten in Trainings- und Testdaten\n",
        "train, test = train_test_split(df, test_size=0.2, shuffle=False)\n",
        "# Ergebnis einsehen\n",
        "test"
      ],
      "metadata": {
        "colab": {
          "base_uri": "https://localhost:8080/",
          "height": 455
        },
        "id": "UWbXJQyrSfro",
        "outputId": "e369312e-5096-4f7b-99ae-f4748d0b0856"
      },
      "execution_count": 314,
      "outputs": [
        {
          "output_type": "execute_result",
          "data": {
            "text/plain": [
              "             temp\n",
              "date             \n",
              "2011-02-01  -2.21\n",
              "2011-03-01   4.47\n",
              "2011-04-01  10.07\n",
              "2011-05-01  16.54\n",
              "2011-06-01  22.25\n",
              "...           ...\n",
              "2022-11-01   5.68\n",
              "2022-12-01  -1.25\n",
              "2023-01-01   1.82\n",
              "2023-02-01   2.51\n",
              "2023-03-01   3.62\n",
              "\n",
              "[145 rows x 1 columns]"
            ],
            "text/html": [
              "\n",
              "  <div id=\"df-1fe4836b-ebd4-46a8-943c-a8447e129d6c\">\n",
              "    <div class=\"colab-df-container\">\n",
              "      <div>\n",
              "<style scoped>\n",
              "    .dataframe tbody tr th:only-of-type {\n",
              "        vertical-align: middle;\n",
              "    }\n",
              "\n",
              "    .dataframe tbody tr th {\n",
              "        vertical-align: top;\n",
              "    }\n",
              "\n",
              "    .dataframe thead th {\n",
              "        text-align: right;\n",
              "    }\n",
              "</style>\n",
              "<table border=\"1\" class=\"dataframe\">\n",
              "  <thead>\n",
              "    <tr style=\"text-align: right;\">\n",
              "      <th></th>\n",
              "      <th>temp</th>\n",
              "    </tr>\n",
              "    <tr>\n",
              "      <th>date</th>\n",
              "      <th></th>\n",
              "    </tr>\n",
              "  </thead>\n",
              "  <tbody>\n",
              "    <tr>\n",
              "      <th>2011-02-01</th>\n",
              "      <td>-2.21</td>\n",
              "    </tr>\n",
              "    <tr>\n",
              "      <th>2011-03-01</th>\n",
              "      <td>4.47</td>\n",
              "    </tr>\n",
              "    <tr>\n",
              "      <th>2011-04-01</th>\n",
              "      <td>10.07</td>\n",
              "    </tr>\n",
              "    <tr>\n",
              "      <th>2011-05-01</th>\n",
              "      <td>16.54</td>\n",
              "    </tr>\n",
              "    <tr>\n",
              "      <th>2011-06-01</th>\n",
              "      <td>22.25</td>\n",
              "    </tr>\n",
              "    <tr>\n",
              "      <th>...</th>\n",
              "      <td>...</td>\n",
              "    </tr>\n",
              "    <tr>\n",
              "      <th>2022-11-01</th>\n",
              "      <td>5.68</td>\n",
              "    </tr>\n",
              "    <tr>\n",
              "      <th>2022-12-01</th>\n",
              "      <td>-1.25</td>\n",
              "    </tr>\n",
              "    <tr>\n",
              "      <th>2023-01-01</th>\n",
              "      <td>1.82</td>\n",
              "    </tr>\n",
              "    <tr>\n",
              "      <th>2023-02-01</th>\n",
              "      <td>2.51</td>\n",
              "    </tr>\n",
              "    <tr>\n",
              "      <th>2023-03-01</th>\n",
              "      <td>3.62</td>\n",
              "    </tr>\n",
              "  </tbody>\n",
              "</table>\n",
              "<p>145 rows × 1 columns</p>\n",
              "</div>\n",
              "      <button class=\"colab-df-convert\" onclick=\"convertToInteractive('df-1fe4836b-ebd4-46a8-943c-a8447e129d6c')\"\n",
              "              title=\"Convert this dataframe to an interactive table.\"\n",
              "              style=\"display:none;\">\n",
              "        \n",
              "  <svg xmlns=\"http://www.w3.org/2000/svg\" height=\"24px\"viewBox=\"0 0 24 24\"\n",
              "       width=\"24px\">\n",
              "    <path d=\"M0 0h24v24H0V0z\" fill=\"none\"/>\n",
              "    <path d=\"M18.56 5.44l.94 2.06.94-2.06 2.06-.94-2.06-.94-.94-2.06-.94 2.06-2.06.94zm-11 1L8.5 8.5l.94-2.06 2.06-.94-2.06-.94L8.5 2.5l-.94 2.06-2.06.94zm10 10l.94 2.06.94-2.06 2.06-.94-2.06-.94-.94-2.06-.94 2.06-2.06.94z\"/><path d=\"M17.41 7.96l-1.37-1.37c-.4-.4-.92-.59-1.43-.59-.52 0-1.04.2-1.43.59L10.3 9.45l-7.72 7.72c-.78.78-.78 2.05 0 2.83L4 21.41c.39.39.9.59 1.41.59.51 0 1.02-.2 1.41-.59l7.78-7.78 2.81-2.81c.8-.78.8-2.07 0-2.86zM5.41 20L4 18.59l7.72-7.72 1.47 1.35L5.41 20z\"/>\n",
              "  </svg>\n",
              "      </button>\n",
              "      \n",
              "  <style>\n",
              "    .colab-df-container {\n",
              "      display:flex;\n",
              "      flex-wrap:wrap;\n",
              "      gap: 12px;\n",
              "    }\n",
              "\n",
              "    .colab-df-convert {\n",
              "      background-color: #E8F0FE;\n",
              "      border: none;\n",
              "      border-radius: 50%;\n",
              "      cursor: pointer;\n",
              "      display: none;\n",
              "      fill: #1967D2;\n",
              "      height: 32px;\n",
              "      padding: 0 0 0 0;\n",
              "      width: 32px;\n",
              "    }\n",
              "\n",
              "    .colab-df-convert:hover {\n",
              "      background-color: #E2EBFA;\n",
              "      box-shadow: 0px 1px 2px rgba(60, 64, 67, 0.3), 0px 1px 3px 1px rgba(60, 64, 67, 0.15);\n",
              "      fill: #174EA6;\n",
              "    }\n",
              "\n",
              "    [theme=dark] .colab-df-convert {\n",
              "      background-color: #3B4455;\n",
              "      fill: #D2E3FC;\n",
              "    }\n",
              "\n",
              "    [theme=dark] .colab-df-convert:hover {\n",
              "      background-color: #434B5C;\n",
              "      box-shadow: 0px 1px 3px 1px rgba(0, 0, 0, 0.15);\n",
              "      filter: drop-shadow(0px 1px 2px rgba(0, 0, 0, 0.3));\n",
              "      fill: #FFFFFF;\n",
              "    }\n",
              "  </style>\n",
              "\n",
              "      <script>\n",
              "        const buttonEl =\n",
              "          document.querySelector('#df-1fe4836b-ebd4-46a8-943c-a8447e129d6c button.colab-df-convert');\n",
              "        buttonEl.style.display =\n",
              "          google.colab.kernel.accessAllowed ? 'block' : 'none';\n",
              "\n",
              "        async function convertToInteractive(key) {\n",
              "          const element = document.querySelector('#df-1fe4836b-ebd4-46a8-943c-a8447e129d6c');\n",
              "          const dataTable =\n",
              "            await google.colab.kernel.invokeFunction('convertToInteractive',\n",
              "                                                     [key], {});\n",
              "          if (!dataTable) return;\n",
              "\n",
              "          const docLinkHtml = 'Like what you see? Visit the ' +\n",
              "            '<a target=\"_blank\" href=https://colab.research.google.com/notebooks/data_table.ipynb>data table notebook</a>'\n",
              "            + ' to learn more about interactive tables.';\n",
              "          element.innerHTML = '';\n",
              "          dataTable['output_type'] = 'display_data';\n",
              "          await google.colab.output.renderOutput(dataTable, element);\n",
              "          const docLink = document.createElement('div');\n",
              "          docLink.innerHTML = docLinkHtml;\n",
              "          element.appendChild(docLink);\n",
              "        }\n",
              "      </script>\n",
              "    </div>\n",
              "  </div>\n",
              "  "
            ]
          },
          "metadata": {},
          "execution_count": 314
        }
      ]
    },
    {
      "cell_type": "markdown",
      "source": [
        "Normierung auf Werte 0..1"
      ],
      "metadata": {
        "id": "5fWwMXwQSsPa"
      }
    },
    {
      "cell_type": "code",
      "source": [
        "# Skalieren der Daten\n",
        "scaler = MinMaxScaler()\n",
        "train_scaled = scaler.fit_transform(train)\n",
        "test_scaled = scaler.transform(test)\n",
        "# Ergebnis einsehen\n",
        "test_scaled"
      ],
      "metadata": {
        "colab": {
          "base_uri": "https://localhost:8080/"
        },
        "id": "OaIbjB3LSuT0",
        "outputId": "6cc64ea4-2b98-413f-f0e8-9c8b6fe01445"
      },
      "execution_count": 315,
      "outputs": [
        {
          "output_type": "execute_result",
          "data": {
            "text/plain": [
              "array([[0.29581828],\n",
              "       [0.46824987],\n",
              "       [0.6128033 ],\n",
              "       [0.77981415],\n",
              "       [0.92720702],\n",
              "       [1.02013423],\n",
              "       [0.91997935],\n",
              "       [0.79917398],\n",
              "       [0.64481156],\n",
              "       [0.56530718],\n",
              "       [0.40397522],\n",
              "       [0.33324729],\n",
              "       [0.37274135],\n",
              "       [0.65229737],\n",
              "       [0.61151265],\n",
              "       [0.85363965],\n",
              "       [0.9145586 ],\n",
              "       [1.02787816],\n",
              "       [0.90242643],\n",
              "       [0.80640165],\n",
              "       [0.62958183],\n",
              "       [0.45302013],\n",
              "       [0.43211151],\n",
              "       [0.30924109],\n",
              "       [0.31879195],\n",
              "       [0.36706247],\n",
              "       [0.60015488],\n",
              "       [0.8084667 ],\n",
              "       [0.90862158],\n",
              "       [0.91765617],\n",
              "       [0.88926174],\n",
              "       [0.83634486],\n",
              "       [0.66572019],\n",
              "       [0.44656686],\n",
              "       [0.3159525 ],\n",
              "       [0.13319566],\n",
              "       [0.18482189],\n",
              "       [0.35389778],\n",
              "       [0.61564275],\n",
              "       [0.78084667],\n",
              "       [0.92178627],\n",
              "       [0.87222509],\n",
              "       [0.9145586 ],\n",
              "       [0.79710893],\n",
              "       [0.65229737],\n",
              "       [0.3988126 ],\n",
              "       [0.37971089],\n",
              "       [0.22250903],\n",
              "       [0.14223025],\n",
              "       [0.38384099],\n",
              "       [0.62545173],\n",
              "       [0.81930821],\n",
              "       [0.89855447],\n",
              "       [0.92746515],\n",
              "       [0.88797109],\n",
              "       [0.8706763 ],\n",
              "       [0.68198245],\n",
              "       [0.55782137],\n",
              "       [0.49561177],\n",
              "       [0.26510067],\n",
              "       [0.35828601],\n",
              "       [0.54439855],\n",
              "       [0.61409396],\n",
              "       [0.75632421],\n",
              "       [0.92385132],\n",
              "       [0.95611771],\n",
              "       [0.97470315],\n",
              "       [0.89390811],\n",
              "       [0.72947858],\n",
              "       [0.56246773],\n",
              "       [0.31724316],\n",
              "       [0.36473929],\n",
              "       [0.46541043],\n",
              "       [0.46644295],\n",
              "       [0.69204956],\n",
              "       [0.74935467],\n",
              "       [0.87687145],\n",
              "       [0.92178627],\n",
              "       [0.88048529],\n",
              "       [0.85054208],\n",
              "       [0.71734641],\n",
              "       [0.49019102],\n",
              "       [0.29865772],\n",
              "       [0.2188952 ],\n",
              "       [0.37661332],\n",
              "       [0.40371709],\n",
              "       [0.49535364],\n",
              "       [0.84925142],\n",
              "       [0.92798141],\n",
              "       [0.91636551],\n",
              "       [0.94424368],\n",
              "       [0.88384099],\n",
              "       [0.67217346],\n",
              "       [0.41352607],\n",
              "       [0.37454827],\n",
              "       [0.26148684],\n",
              "       [0.33505421],\n",
              "       [0.39958699],\n",
              "       [0.61667527],\n",
              "       [0.77981415],\n",
              "       [0.89597315],\n",
              "       [0.98864223],\n",
              "       [0.89442437],\n",
              "       [0.69050077],\n",
              "       [0.41972122],\n",
              "       [0.39700568],\n",
              "       [0.3706763 ],\n",
              "       [0.33970057],\n",
              "       [0.50593702],\n",
              "       [0.57924626],\n",
              "       [0.72121838],\n",
              "       [0.89726381],\n",
              "       [0.9801239 ],\n",
              "       [0.91404233],\n",
              "       [0.81543624],\n",
              "       [0.63500258],\n",
              "       [0.55446567],\n",
              "       [0.36086732],\n",
              "       [0.31775942],\n",
              "       [0.20908622],\n",
              "       [0.5232318 ],\n",
              "       [0.61615901],\n",
              "       [0.71837894],\n",
              "       [0.9254001 ],\n",
              "       [0.93804853],\n",
              "       [0.89894166],\n",
              "       [0.8598348 ],\n",
              "       [0.75529169],\n",
              "       [0.45818276],\n",
              "       [0.45018069],\n",
              "       [0.22792979],\n",
              "       [0.30640165],\n",
              "       [0.50154879],\n",
              "       [0.58853898],\n",
              "       [0.82705214],\n",
              "       [0.93469282],\n",
              "       [0.90070556],\n",
              "       [0.86671829],\n",
              "       [0.83273103],\n",
              "       [0.61667527],\n",
              "       [0.49948374],\n",
              "       [0.32059886],\n",
              "       [0.39984512],\n",
              "       [0.41765617],\n",
              "       [0.44630872]])"
            ]
          },
          "metadata": {},
          "execution_count": 315
        }
      ]
    },
    {
      "cell_type": "code",
      "execution_count": null,
      "metadata": {
        "colab": {
          "base_uri": "https://localhost:8080/"
        },
        "id": "GBSoJbZjO-8Y",
        "outputId": "fca3c50e-ede5-4d73-a4b8-47762cacd9c1"
      },
      "outputs": [
        {
          "output_type": "stream",
          "name": "stdout",
          "text": [
            "Epoch 1/100\n",
            "17/17 [==============================] - 12s 510ms/step - loss: 0.1974\n",
            "Epoch 2/100\n",
            "17/17 [==============================] - 1s 85ms/step - loss: 0.0736\n",
            "Epoch 3/100\n",
            "17/17 [==============================] - 2s 121ms/step - loss: 0.0728\n",
            "Epoch 4/100\n",
            "17/17 [==============================] - 1s 84ms/step - loss: 0.0676\n",
            "Epoch 5/100\n",
            "17/17 [==============================] - 3s 155ms/step - loss: 0.0670\n",
            "Epoch 6/100\n",
            "17/17 [==============================] - 2s 128ms/step - loss: 0.0660\n",
            "Epoch 7/100\n",
            "17/17 [==============================] - 2s 103ms/step - loss: 0.0643\n",
            "Epoch 8/100\n",
            "17/17 [==============================] - 2s 115ms/step - loss: 0.0603\n",
            "Epoch 9/100\n",
            "17/17 [==============================] - 2s 116ms/step - loss: 0.0562\n",
            "Epoch 10/100\n",
            "17/17 [==============================] - 1s 50ms/step - loss: 0.0495\n",
            "Epoch 11/100\n",
            "17/17 [==============================] - 1s 52ms/step - loss: 0.0327\n",
            "Epoch 12/100\n",
            "17/17 [==============================] - 3s 193ms/step - loss: 0.0100\n",
            "Epoch 13/100\n",
            "17/17 [==============================] - 3s 212ms/step - loss: 0.0066\n",
            "Epoch 14/100\n",
            "17/17 [==============================] - 2s 125ms/step - loss: 0.0055\n",
            "Epoch 15/100\n",
            "17/17 [==============================] - 2s 115ms/step - loss: 0.0048\n",
            "Epoch 16/100\n",
            "17/17 [==============================] - 1s 77ms/step - loss: 0.0047\n",
            "Epoch 17/100\n",
            "17/17 [==============================] - 2s 136ms/step - loss: 0.0050\n",
            "Epoch 18/100\n",
            "17/17 [==============================] - 3s 185ms/step - loss: 0.0047\n",
            "Epoch 19/100\n",
            "17/17 [==============================] - 1s 83ms/step - loss: 0.0042\n",
            "Epoch 20/100\n",
            "17/17 [==============================] - 2s 118ms/step - loss: 0.0042\n",
            "Epoch 21/100\n",
            "17/17 [==============================] - 1s 78ms/step - loss: 0.0039\n",
            "Epoch 22/100\n",
            "17/17 [==============================] - 2s 115ms/step - loss: 0.0039\n",
            "Epoch 23/100\n",
            "17/17 [==============================] - 3s 160ms/step - loss: 0.0042\n",
            "Epoch 24/100\n",
            "17/17 [==============================] - 2s 119ms/step - loss: 0.0040\n",
            "Epoch 25/100\n",
            "17/17 [==============================] - 2s 122ms/step - loss: 0.0040\n",
            "Epoch 26/100\n",
            "17/17 [==============================] - 1s 79ms/step - loss: 0.0040\n",
            "Epoch 27/100\n",
            "17/17 [==============================] - 2s 118ms/step - loss: 0.0040\n",
            "Epoch 28/100\n",
            "17/17 [==============================] - 1s 77ms/step - loss: 0.0036\n",
            "Epoch 29/100\n",
            "17/17 [==============================] - 3s 203ms/step - loss: 0.0045\n",
            "Epoch 30/100\n",
            "17/17 [==============================] - 2s 121ms/step - loss: 0.0037\n",
            "Epoch 31/100\n",
            "17/17 [==============================] - 1s 86ms/step - loss: 0.0040\n",
            "Epoch 32/100\n",
            "17/17 [==============================] - 2s 118ms/step - loss: 0.0039\n",
            "Epoch 33/100\n",
            "17/17 [==============================] - 1s 85ms/step - loss: 0.0039\n",
            "Epoch 34/100\n",
            "10/17 [================>.............] - ETA: 1s - loss: 0.0034"
          ]
        }
      ],
      "source": [
        "\n",
        "\n",
        "# Vorbereiten der Trainingsdaten\n",
        "look_back = 60 # Anzahl der vorherigen Monate, die zur Vorhersage verwendet werden\n",
        "X_train = []\n",
        "y_train = []\n",
        "for i in range(look_back, len(train_scaled)):\n",
        "    X_train.append(train_scaled[i-look_back:i, 0])\n",
        "    y_train.append(train_scaled[i, 0])\n",
        "X_train, y_train = np.array(X_train), np.array(y_train)\n",
        "\n",
        "# Umformen der Daten in das erforderliche 3D-Array-Format\n",
        "X_train = np.reshape(X_train, (X_train.shape[0], X_train.shape[1], 1))\n",
        "\n",
        "# Definieren und Trainieren des LSTM-Modells\n",
        "model = Sequential()\n",
        "model.add(LSTM(units=50, return_sequences=True, input_shape=(X_train.shape[1], 1)))\n",
        "model.add(LSTM(units=50))\n",
        "model.add(Dense(units=1))\n",
        "model.compile(optimizer='adam', loss='mean_squared_error')\n",
        "model.fit(X_train, y_train, epochs=100, batch_size=32)\n",
        "\n",
        "\n"
      ]
    },
    {
      "cell_type": "markdown",
      "source": [
        "Modell Validieren"
      ],
      "metadata": {
        "id": "v4Vgo7gcfH0O"
      }
    },
    {
      "cell_type": "code",
      "source": [
        "# Vorbereiten der Testdaten\n",
        "inputs = df[len(df) - len(test) - look_back:].values\n",
        "inputs = scaler.transform(inputs)\n",
        "X_test = []\n",
        "for i in range(look_back, len(inputs)):\n",
        "    X_test.append(inputs[i-look_back:i, 0])\n",
        "X_test = np.array(X_test)\n",
        "X_test = np.reshape(X_test, (X_test.shape[0], X_test.shape[1], 1))\n",
        "\n",
        "# Vorhersage der Temperaturen\n",
        "predicted = model.predict(X_test)\n",
        "predicted = scaler.inverse_transform(predicted)\n",
        "\n",
        "# Plotten der Ergebnisse\n",
        "plt.plot(test.index, test['temp'], color='blue', label='Actual Temperature in '+OBSERVATION_LOCATION_NAME)\n",
        "plt.plot(test.index, predicted, color='red', label='Predicted Temperature in '+OBSERVATION_LOCATION_NAME)\n",
        "plt.title('Testing Temperature Forecast '+OBSERVATION_LOCATION_NAME)\n",
        "plt.xlabel('Date')\n",
        "plt.ylabel('Temperature')\n",
        "plt.legend()\n",
        "plt.show()"
      ],
      "metadata": {
        "id": "NC9ASPDTfHLY"
      },
      "execution_count": null,
      "outputs": []
    },
    {
      "cell_type": "markdown",
      "source": [
        "Prognose auf Zukunft anwenden"
      ],
      "metadata": {
        "id": "2kz9VD0rfKGe"
      }
    },
    {
      "cell_type": "code",
      "source": [
        "\n",
        "\n",
        "\n",
        "predicted=None\n",
        "df_future=df[-look_back:]\n",
        "prediction_period=60 #months\n",
        "results = np.zeros(shape=(prediction_period, 1))\n",
        "last_known_dateindex=df_future.iloc[[-1]].index\n",
        "\n",
        "for i in range(0,prediction_period):\n",
        "  F_test = []\n",
        "  inputs=scaler.transform(df_future[-look_back:].values)\n",
        "  F_test.append(inputs)\n",
        "  F_test= np.array(F_test)\n",
        "  F_test = np.reshape(F_test, (F_test.shape[0], F_test.shape[1], 1))\n",
        "  # Vorhersage der Temperaturen n=1\n",
        "  predicted = model.predict(F_test)\n",
        "  predicted = scaler.inverse_transform(predicted)\n",
        "  predicted\n",
        "  results[i]=predicted\n",
        "\n",
        "  # add predicted element to df_future\n",
        "  next_date = last_known_dateindex + pd.DateOffset(months=i+1)\n",
        "  df_future=pd.concat([df_future,pd.DataFrame({'temp':predicted[0]}, index=next_date)])\n",
        "  print(\"hier:\"+str(next_date[0]))\n",
        "\n",
        "results"
      ],
      "metadata": {
        "id": "FeAAAhfWmkzy"
      },
      "execution_count": null,
      "outputs": []
    },
    {
      "cell_type": "code",
      "source": [
        "\n",
        "\n",
        "# Plotten der Ergebnisse\n",
        "plt.plot(df_future[:look_back].index, df_future[:look_back], color='blue', label='Actual Temperature in '+OBSERVATION_LOCATION_NAME)\n",
        "plt.plot(df_future[look_back:].index, df_future[look_back:], color='red', label='Predicted Temperature in '+OBSERVATION_LOCATION_NAME)\n",
        "plt.title('Testing Temperature Forecast '+OBSERVATION_LOCATION_NAME)\n",
        "plt.xlabel('Date')\n",
        "plt.ylabel('Temperature')\n",
        "plt.legend()\n",
        "plt.show()"
      ],
      "metadata": {
        "id": "CnK5_k-cfLkm"
      },
      "execution_count": null,
      "outputs": []
    },
    {
      "cell_type": "markdown",
      "source": [
        "test"
      ],
      "metadata": {
        "id": "fJ4PUw6WPrvj"
      }
    }
  ]
}