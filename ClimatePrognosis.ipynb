{
  "nbformat": 4,
  "nbformat_minor": 0,
  "metadata": {
    "colab": {
      "provenance": [],
      "authorship_tag": "ABX9TyOQ8KvTjp4LjQ2SSBo/+x5+",
      "include_colab_link": true
    },
    "kernelspec": {
      "name": "python3",
      "display_name": "Python 3"
    },
    "language_info": {
      "name": "python"
    }
  },
  "cells": [
    {
      "cell_type": "markdown",
      "metadata": {
        "id": "view-in-github",
        "colab_type": "text"
      },
      "source": [
        "<a href=\"https://colab.research.google.com/github/soy-min/climate-prognosis/blob/main/ClimatePrognosis.ipynb\" target=\"_parent\"><img src=\"https://colab.research.google.com/assets/colab-badge.svg\" alt=\"Open In Colab\"/></a>"
      ]
    },
    {
      "cell_type": "markdown",
      "source": [
        "Imports"
      ],
      "metadata": {
        "id": "jKsS6xKYRav4"
      }
    },
    {
      "cell_type": "code",
      "source": [
        "import pandas as pd\n",
        "import numpy as np\n",
        "import matplotlib.pyplot as plt\n",
        "import datetime\n",
        "from sklearn.preprocessing import MinMaxScaler\n",
        "from sklearn.model_selection import train_test_split\n",
        "from keras.models import Sequential\n",
        "from keras.layers import Dense, LSTM"
      ],
      "metadata": {
        "id": "bbdVuroORYn3"
      },
      "execution_count": 228,
      "outputs": []
    },
    {
      "cell_type": "markdown",
      "source": [
        "Globale Parameter"
      ],
      "metadata": {
        "id": "x1z8yZKPXtHN"
      }
    },
    {
      "cell_type": "code",
      "source": [
        "START_YEAR_OBSERVATION='1995-01-01'\n",
        "OBSERVATION_LOCATION_NAME='DEFAULT'"
      ],
      "metadata": {
        "id": "9pTEoNjFXuFQ"
      },
      "execution_count": 229,
      "outputs": []
    },
    {
      "cell_type": "markdown",
      "source": [
        "CSV laden"
      ],
      "metadata": {
        "id": "FjvqHwA-Rg7U"
      }
    },
    {
      "cell_type": "code",
      "source": [
        "# Laden der CSV-Datei\n",
        "#df = pd.read_csv('SW000002361.csv')\n",
        "df = pd.read_csv('USC00122825.csv')\n",
        "OBSERVATION_LOCATION_NAME=df.iloc[1]['NAME']\n",
        "print(df.head())"
      ],
      "metadata": {
        "colab": {
          "base_uri": "https://localhost:8080/"
        },
        "id": "VaOlCekERipA",
        "outputId": "46513dae-1082-4051-c65c-368400311d08"
      },
      "execution_count": 230,
      "outputs": [
        {
          "output_type": "stream",
          "name": "stdout",
          "text": [
            "       STATION     DATE  LATITUDE  LONGITUDE  ELEVATION  \\\n",
            "0  USC00122825  1893-01   40.2538   -85.1484      294.1   \n",
            "1  USC00122825  1893-02   40.2538   -85.1484      294.1   \n",
            "2  USC00122825  1893-04   40.2538   -85.1484      294.1   \n",
            "3  USC00122825  1893-05   40.2538   -85.1484      294.1   \n",
            "4  USC00122825  1893-06   40.2538   -85.1484      294.1   \n",
            "\n",
            "                    NAME  CDSD  CDSD_ATTRIBUTES  CLDD CLDD_ATTRIBUTES  ...  \\\n",
            "0  FARMLAND 5 NNW, IN US   0.0              6.0   0.0              ,6  ...   \n",
            "1  FARMLAND 5 NNW, IN US   0.0              6.0   0.0             2,6  ...   \n",
            "2  FARMLAND 5 NNW, IN US   NaN              NaN   5.3              ,6  ...   \n",
            "3  FARMLAND 5 NNW, IN US   NaN              NaN   9.7              ,6  ...   \n",
            "4  FARMLAND 5 NNW, IN US   NaN              NaN   NaN             NaN  ...   \n",
            "\n",
            "    SNOW SNOW_ATTRIBUTES   TAVG TAVG_ATTRIBUTES   TMAX TMAX_ATTRIBUTES   TMIN  \\\n",
            "0    NaN             NaN  -8.37              ,6  -3.54            ,,,6 -13.20   \n",
            "1    NaN             NaN  -1.49             2,6   3.53           1,,,6  -6.50   \n",
            "2  178.0            ,,,6  10.47              ,6  15.67            ,,,6   5.26   \n",
            "3    NaN             NaN  14.81              ,6  20.59            ,,,6   9.03   \n",
            "4    NaN             NaN    NaN             NaN    NaN             NaN    NaN   \n",
            "\n",
            "  TMIN_ATTRIBUTES  WDMV WDMV_ATTRIBUTES  \n",
            "0            ,,,6   NaN             NaN  \n",
            "1           1,,,6   NaN             NaN  \n",
            "2            ,,,6   NaN             NaN  \n",
            "3            ,,,6   NaN             NaN  \n",
            "4             NaN   NaN             NaN  \n",
            "\n",
            "[5 rows x 114 columns]\n"
          ]
        }
      ]
    },
    {
      "cell_type": "markdown",
      "source": [
        "Reduzieren auf relevante Informationen"
      ],
      "metadata": {
        "id": "ZUyF3PV7RoMA"
      }
    },
    {
      "cell_type": "code",
      "source": [
        "# Auswahl der relevanten Spalten (z.B. Datum, Temperatur)\n",
        "df = df[['DATE', 'TAVG']]\n",
        "# Umbenennen der Spalten\n",
        "df = df.rename(columns={'DATE': 'date', 'TAVG': 'temp'})\n",
        "# Festlegen des Indexes als Datum\n",
        "df['date'] = pd.to_datetime(df['date'])\n",
        "df.set_index('date', inplace=True)\n",
        "# reduzieren auf > START_YEAR_OBSERVATION\n",
        "df=df.loc[START_YEAR_OBSERVATION:]\n",
        "# einblick in die Daten\n",
        "df"
      ],
      "metadata": {
        "colab": {
          "base_uri": "https://localhost:8080/",
          "height": 455
        },
        "id": "kluyEAWrRqzS",
        "outputId": "4f3d3e18-8242-4036-b5af-552257aff787"
      },
      "execution_count": 231,
      "outputs": [
        {
          "output_type": "execute_result",
          "data": {
            "text/plain": [
              "             temp\n",
              "date             \n",
              "1995-01-01  -2.44\n",
              "1995-02-01  -2.88\n",
              "1995-03-01   4.89\n",
              "1995-04-01   8.84\n",
              "1995-05-01  14.64\n",
              "...           ...\n",
              "2022-11-01   5.68\n",
              "2022-12-01  -1.25\n",
              "2023-01-01   1.82\n",
              "2023-02-01   2.51\n",
              "2023-03-01   3.62\n",
              "\n",
              "[338 rows x 1 columns]"
            ],
            "text/html": [
              "\n",
              "  <div id=\"df-d230ecef-c008-4d41-a90e-dcb48576b970\">\n",
              "    <div class=\"colab-df-container\">\n",
              "      <div>\n",
              "<style scoped>\n",
              "    .dataframe tbody tr th:only-of-type {\n",
              "        vertical-align: middle;\n",
              "    }\n",
              "\n",
              "    .dataframe tbody tr th {\n",
              "        vertical-align: top;\n",
              "    }\n",
              "\n",
              "    .dataframe thead th {\n",
              "        text-align: right;\n",
              "    }\n",
              "</style>\n",
              "<table border=\"1\" class=\"dataframe\">\n",
              "  <thead>\n",
              "    <tr style=\"text-align: right;\">\n",
              "      <th></th>\n",
              "      <th>temp</th>\n",
              "    </tr>\n",
              "    <tr>\n",
              "      <th>date</th>\n",
              "      <th></th>\n",
              "    </tr>\n",
              "  </thead>\n",
              "  <tbody>\n",
              "    <tr>\n",
              "      <th>1995-01-01</th>\n",
              "      <td>-2.44</td>\n",
              "    </tr>\n",
              "    <tr>\n",
              "      <th>1995-02-01</th>\n",
              "      <td>-2.88</td>\n",
              "    </tr>\n",
              "    <tr>\n",
              "      <th>1995-03-01</th>\n",
              "      <td>4.89</td>\n",
              "    </tr>\n",
              "    <tr>\n",
              "      <th>1995-04-01</th>\n",
              "      <td>8.84</td>\n",
              "    </tr>\n",
              "    <tr>\n",
              "      <th>1995-05-01</th>\n",
              "      <td>14.64</td>\n",
              "    </tr>\n",
              "    <tr>\n",
              "      <th>...</th>\n",
              "      <td>...</td>\n",
              "    </tr>\n",
              "    <tr>\n",
              "      <th>2022-11-01</th>\n",
              "      <td>5.68</td>\n",
              "    </tr>\n",
              "    <tr>\n",
              "      <th>2022-12-01</th>\n",
              "      <td>-1.25</td>\n",
              "    </tr>\n",
              "    <tr>\n",
              "      <th>2023-01-01</th>\n",
              "      <td>1.82</td>\n",
              "    </tr>\n",
              "    <tr>\n",
              "      <th>2023-02-01</th>\n",
              "      <td>2.51</td>\n",
              "    </tr>\n",
              "    <tr>\n",
              "      <th>2023-03-01</th>\n",
              "      <td>3.62</td>\n",
              "    </tr>\n",
              "  </tbody>\n",
              "</table>\n",
              "<p>338 rows × 1 columns</p>\n",
              "</div>\n",
              "      <button class=\"colab-df-convert\" onclick=\"convertToInteractive('df-d230ecef-c008-4d41-a90e-dcb48576b970')\"\n",
              "              title=\"Convert this dataframe to an interactive table.\"\n",
              "              style=\"display:none;\">\n",
              "        \n",
              "  <svg xmlns=\"http://www.w3.org/2000/svg\" height=\"24px\"viewBox=\"0 0 24 24\"\n",
              "       width=\"24px\">\n",
              "    <path d=\"M0 0h24v24H0V0z\" fill=\"none\"/>\n",
              "    <path d=\"M18.56 5.44l.94 2.06.94-2.06 2.06-.94-2.06-.94-.94-2.06-.94 2.06-2.06.94zm-11 1L8.5 8.5l.94-2.06 2.06-.94-2.06-.94L8.5 2.5l-.94 2.06-2.06.94zm10 10l.94 2.06.94-2.06 2.06-.94-2.06-.94-.94-2.06-.94 2.06-2.06.94z\"/><path d=\"M17.41 7.96l-1.37-1.37c-.4-.4-.92-.59-1.43-.59-.52 0-1.04.2-1.43.59L10.3 9.45l-7.72 7.72c-.78.78-.78 2.05 0 2.83L4 21.41c.39.39.9.59 1.41.59.51 0 1.02-.2 1.41-.59l7.78-7.78 2.81-2.81c.8-.78.8-2.07 0-2.86zM5.41 20L4 18.59l7.72-7.72 1.47 1.35L5.41 20z\"/>\n",
              "  </svg>\n",
              "      </button>\n",
              "      \n",
              "  <style>\n",
              "    .colab-df-container {\n",
              "      display:flex;\n",
              "      flex-wrap:wrap;\n",
              "      gap: 12px;\n",
              "    }\n",
              "\n",
              "    .colab-df-convert {\n",
              "      background-color: #E8F0FE;\n",
              "      border: none;\n",
              "      border-radius: 50%;\n",
              "      cursor: pointer;\n",
              "      display: none;\n",
              "      fill: #1967D2;\n",
              "      height: 32px;\n",
              "      padding: 0 0 0 0;\n",
              "      width: 32px;\n",
              "    }\n",
              "\n",
              "    .colab-df-convert:hover {\n",
              "      background-color: #E2EBFA;\n",
              "      box-shadow: 0px 1px 2px rgba(60, 64, 67, 0.3), 0px 1px 3px 1px rgba(60, 64, 67, 0.15);\n",
              "      fill: #174EA6;\n",
              "    }\n",
              "\n",
              "    [theme=dark] .colab-df-convert {\n",
              "      background-color: #3B4455;\n",
              "      fill: #D2E3FC;\n",
              "    }\n",
              "\n",
              "    [theme=dark] .colab-df-convert:hover {\n",
              "      background-color: #434B5C;\n",
              "      box-shadow: 0px 1px 3px 1px rgba(0, 0, 0, 0.15);\n",
              "      filter: drop-shadow(0px 1px 2px rgba(0, 0, 0, 0.3));\n",
              "      fill: #FFFFFF;\n",
              "    }\n",
              "  </style>\n",
              "\n",
              "      <script>\n",
              "        const buttonEl =\n",
              "          document.querySelector('#df-d230ecef-c008-4d41-a90e-dcb48576b970 button.colab-df-convert');\n",
              "        buttonEl.style.display =\n",
              "          google.colab.kernel.accessAllowed ? 'block' : 'none';\n",
              "\n",
              "        async function convertToInteractive(key) {\n",
              "          const element = document.querySelector('#df-d230ecef-c008-4d41-a90e-dcb48576b970');\n",
              "          const dataTable =\n",
              "            await google.colab.kernel.invokeFunction('convertToInteractive',\n",
              "                                                     [key], {});\n",
              "          if (!dataTable) return;\n",
              "\n",
              "          const docLinkHtml = 'Like what you see? Visit the ' +\n",
              "            '<a target=\"_blank\" href=https://colab.research.google.com/notebooks/data_table.ipynb>data table notebook</a>'\n",
              "            + ' to learn more about interactive tables.';\n",
              "          element.innerHTML = '';\n",
              "          dataTable['output_type'] = 'display_data';\n",
              "          await google.colab.output.renderOutput(dataTable, element);\n",
              "          const docLink = document.createElement('div');\n",
              "          docLink.innerHTML = docLinkHtml;\n",
              "          element.appendChild(docLink);\n",
              "        }\n",
              "      </script>\n",
              "    </div>\n",
              "  </div>\n",
              "  "
            ]
          },
          "metadata": {},
          "execution_count": 231
        }
      ]
    },
    {
      "cell_type": "markdown",
      "source": [
        "Visualisieren der Daten"
      ],
      "metadata": {
        "id": "3S-92BjeVNmn"
      }
    },
    {
      "cell_type": "code",
      "source": [
        "# Plotten der Ergebnisse\n",
        "plt.plot(df.index, df['temp'], color='blue', label='Temperature in '+OBSERVATION_LOCATION_NAME)\n",
        "plt.plot(df.index, df.rolling(window=48).mean()['temp'], color='red', label='MA Temperature in '+OBSERVATION_LOCATION_NAME)\n",
        "plt.title('Temperature Data '+OBSERVATION_LOCATION_NAME)\n",
        "plt.xlabel('Date')\n",
        "plt.ylabel('Temperature')\n",
        "plt.legend()\n",
        "plt.show()"
      ],
      "metadata": {
        "colab": {
          "base_uri": "https://localhost:8080/",
          "height": 472
        },
        "id": "SsFgEgjGVO3v",
        "outputId": "47098b39-b654-42b0-f46b-1fa72479036a"
      },
      "execution_count": 232,
      "outputs": [
        {
          "output_type": "display_data",
          "data": {
            "text/plain": [
              "<Figure size 640x480 with 1 Axes>"
            ],
            "image/png": "[encoded data removed]"
          },
          "metadata": {}
        }
      ]
    },
    {
      "cell_type": "markdown",
      "source": [
        "Trainings und Testdaten separieren"
      ],
      "metadata": {
        "id": "t8Z8PmAwSg-3"
      }
    },
    {
      "cell_type": "code",
      "source": [
        "# Teilen der Daten in Trainings- und Testdaten\n",
        "train, test = train_test_split(df, test_size=0.2, shuffle=False)\n",
        "# Ergebnis einsehen\n",
        "test"
      ],
      "metadata": {
        "colab": {
          "base_uri": "https://localhost:8080/",
          "height": 455
        },
        "id": "UWbXJQyrSfro",
        "outputId": "526eab5b-ea8c-40be-b697-21dafaaecb4b"
      },
      "execution_count": 233,
      "outputs": [
        {
          "output_type": "execute_result",
          "data": {
            "text/plain": [
              "             temp\n",
              "date             \n",
              "2017-07-01  22.04\n",
              "2017-08-01  20.44\n",
              "2017-09-01  19.28\n",
              "2017-10-01  14.12\n",
              "2017-11-01   5.32\n",
              "...           ...\n",
              "2022-11-01   5.68\n",
              "2022-12-01  -1.25\n",
              "2023-01-01   1.82\n",
              "2023-02-01   2.51\n",
              "2023-03-01   3.62\n",
              "\n",
              "[68 rows x 1 columns]"
            ],
            "text/html": [
              "\n",
              "  <div id=\"df-03135df5-e0f4-4a1b-ad4d-31b774c33252\">\n",
              "    <div class=\"colab-df-container\">\n",
              "      <div>\n",
              "<style scoped>\n",
              "    .dataframe tbody tr th:only-of-type {\n",
              "        vertical-align: middle;\n",
              "    }\n",
              "\n",
              "    .dataframe tbody tr th {\n",
              "        vertical-align: top;\n",
              "    }\n",
              "\n",
              "    .dataframe thead th {\n",
              "        text-align: right;\n",
              "    }\n",
              "</style>\n",
              "<table border=\"1\" class=\"dataframe\">\n",
              "  <thead>\n",
              "    <tr style=\"text-align: right;\">\n",
              "      <th></th>\n",
              "      <th>temp</th>\n",
              "    </tr>\n",
              "    <tr>\n",
              "      <th>date</th>\n",
              "      <th></th>\n",
              "    </tr>\n",
              "  </thead>\n",
              "  <tbody>\n",
              "    <tr>\n",
              "      <th>2017-07-01</th>\n",
              "      <td>22.04</td>\n",
              "    </tr>\n",
              "    <tr>\n",
              "      <th>2017-08-01</th>\n",
              "      <td>20.44</td>\n",
              "    </tr>\n",
              "    <tr>\n",
              "      <th>2017-09-01</th>\n",
              "      <td>19.28</td>\n",
              "    </tr>\n",
              "    <tr>\n",
              "      <th>2017-10-01</th>\n",
              "      <td>14.12</td>\n",
              "    </tr>\n",
              "    <tr>\n",
              "      <th>2017-11-01</th>\n",
              "      <td>5.32</td>\n",
              "    </tr>\n",
              "    <tr>\n",
              "      <th>...</th>\n",
              "      <td>...</td>\n",
              "    </tr>\n",
              "    <tr>\n",
              "      <th>2022-11-01</th>\n",
              "      <td>5.68</td>\n",
              "    </tr>\n",
              "    <tr>\n",
              "      <th>2022-12-01</th>\n",
              "      <td>-1.25</td>\n",
              "    </tr>\n",
              "    <tr>\n",
              "      <th>2023-01-01</th>\n",
              "      <td>1.82</td>\n",
              "    </tr>\n",
              "    <tr>\n",
              "      <th>2023-02-01</th>\n",
              "      <td>2.51</td>\n",
              "    </tr>\n",
              "    <tr>\n",
              "      <th>2023-03-01</th>\n",
              "      <td>3.62</td>\n",
              "    </tr>\n",
              "  </tbody>\n",
              "</table>\n",
              "<p>68 rows × 1 columns</p>\n",
              "</div>\n",
              "      <button class=\"colab-df-convert\" onclick=\"convertToInteractive('df-03135df5-e0f4-4a1b-ad4d-31b774c33252')\"\n",
              "              title=\"Convert this dataframe to an interactive table.\"\n",
              "              style=\"display:none;\">\n",
              "        \n",
              "  <svg xmlns=\"http://www.w3.org/2000/svg\" height=\"24px\"viewBox=\"0 0 24 24\"\n",
              "       width=\"24px\">\n",
              "    <path d=\"M0 0h24v24H0V0z\" fill=\"none\"/>\n",
              "    <path d=\"M18.56 5.44l.94 2.06.94-2.06 2.06-.94-2.06-.94-.94-2.06-.94 2.06-2.06.94zm-11 1L8.5 8.5l.94-2.06 2.06-.94-2.06-.94L8.5 2.5l-.94 2.06-2.06.94zm10 10l.94 2.06.94-2.06 2.06-.94-2.06-.94-.94-2.06-.94 2.06-2.06.94z\"/><path d=\"M17.41 7.96l-1.37-1.37c-.4-.4-.92-.59-1.43-.59-.52 0-1.04.2-1.43.59L10.3 9.45l-7.72 7.72c-.78.78-.78 2.05 0 2.83L4 21.41c.39.39.9.59 1.41.59.51 0 1.02-.2 1.41-.59l7.78-7.78 2.81-2.81c.8-.78.8-2.07 0-2.86zM5.41 20L4 18.59l7.72-7.72 1.47 1.35L5.41 20z\"/>\n",
              "  </svg>\n",
              "      </button>\n",
              "      \n",
              "  <style>\n",
              "    .colab-df-container {\n",
              "      display:flex;\n",
              "      flex-wrap:wrap;\n",
              "      gap: 12px;\n",
              "    }\n",
              "\n",
              "    .colab-df-convert {\n",
              "      background-color: #E8F0FE;\n",
              "      border: none;\n",
              "      border-radius: 50%;\n",
              "      cursor: pointer;\n",
              "      display: none;\n",
              "      fill: #1967D2;\n",
              "      height: 32px;\n",
              "      padding: 0 0 0 0;\n",
              "      width: 32px;\n",
              "    }\n",
              "\n",
              "    .colab-df-convert:hover {\n",
              "      background-color: #E2EBFA;\n",
              "      box-shadow: 0px 1px 2px rgba(60, 64, 67, 0.3), 0px 1px 3px 1px rgba(60, 64, 67, 0.15);\n",
              "      fill: #174EA6;\n",
              "    }\n",
              "\n",
              "    [theme=dark] .colab-df-convert {\n",
              "      background-color: #3B4455;\n",
              "      fill: #D2E3FC;\n",
              "    }\n",
              "\n",
              "    [theme=dark] .colab-df-convert:hover {\n",
              "      background-color: #434B5C;\n",
              "      box-shadow: 0px 1px 3px 1px rgba(0, 0, 0, 0.15);\n",
              "      filter: drop-shadow(0px 1px 2px rgba(0, 0, 0, 0.3));\n",
              "      fill: #FFFFFF;\n",
              "    }\n",
              "  </style>\n",
              "\n",
              "      <script>\n",
              "        const buttonEl =\n",
              "          document.querySelector('#df-03135df5-e0f4-4a1b-ad4d-31b774c33252 button.colab-df-convert');\n",
              "        buttonEl.style.display =\n",
              "          google.colab.kernel.accessAllowed ? 'block' : 'none';\n",
              "\n",
              "        async function convertToInteractive(key) {\n",
              "          const element = document.querySelector('#df-03135df5-e0f4-4a1b-ad4d-31b774c33252');\n",
              "          const dataTable =\n",
              "            await google.colab.kernel.invokeFunction('convertToInteractive',\n",
              "                                                     [key], {});\n",
              "          if (!dataTable) return;\n",
              "\n",
              "          const docLinkHtml = 'Like what you see? Visit the ' +\n",
              "            '<a target=\"_blank\" href=https://colab.research.google.com/notebooks/data_table.ipynb>data table notebook</a>'\n",
              "            + ' to learn more about interactive tables.';\n",
              "          element.innerHTML = '';\n",
              "          dataTable['output_type'] = 'display_data';\n",
              "          await google.colab.output.renderOutput(dataTable, element);\n",
              "          const docLink = document.createElement('div');\n",
              "          docLink.innerHTML = docLinkHtml;\n",
              "          element.appendChild(docLink);\n",
              "        }\n",
              "      </script>\n",
              "    </div>\n",
              "  </div>\n",
              "  "
            ]
          },
          "metadata": {},
          "execution_count": 233
        }
      ]
    },
    {
      "cell_type": "markdown",
      "source": [
        "Normierung auf Werte 0..1"
      ],
      "metadata": {
        "id": "5fWwMXwQSsPa"
      }
    },
    {
      "cell_type": "code",
      "source": [
        "# Skalieren der Daten\n",
        "scaler = MinMaxScaler()\n",
        "train_scaled = scaler.fit_transform(train)\n",
        "test_scaled = scaler.transform(test)\n",
        "# Ergebnis einsehen\n",
        "test_scaled"
      ],
      "metadata": {
        "colab": {
          "base_uri": "https://localhost:8080/"
        },
        "id": "OaIbjB3LSuT0",
        "outputId": "84171b92-3c74-48ff-af32-286162cbe456"
      },
      "execution_count": 234,
      "outputs": [
        {
          "output_type": "execute_result",
          "data": {
            "text/plain": [
              "array([[0.88243707],\n",
              "       [0.83667048],\n",
              "       [0.8034897 ],\n",
              "       [0.65589245],\n",
              "       [0.4041762 ],\n",
              "       [0.19193364],\n",
              "       [0.10354691],\n",
              "       [0.27831808],\n",
              "       [0.3083524 ],\n",
              "       [0.40989703],\n",
              "       [0.8020595 ],\n",
              "       [0.88930206],\n",
              "       [0.87643021],\n",
              "       [0.90732265],\n",
              "       [0.84038902],\n",
              "       [0.60583524],\n",
              "       [0.31922197],\n",
              "       [0.27602975],\n",
              "       [0.15074371],\n",
              "       [0.23226545],\n",
              "       [0.30377574],\n",
              "       [0.54433638],\n",
              "       [0.72511442],\n",
              "       [0.85383295],\n",
              "       [0.95652174],\n",
              "       [0.8521167 ],\n",
              "       [0.62614416],\n",
              "       [0.32608696],\n",
              "       [0.30091533],\n",
              "       [0.27173913],\n",
              "       [0.23741419],\n",
              "       [0.42162471],\n",
              "       [0.50286041],\n",
              "       [0.66018307],\n",
              "       [0.85526316],\n",
              "       [0.94708238],\n",
              "       [0.87385584],\n",
              "       [0.7645881 ],\n",
              "       [0.56464531],\n",
              "       [0.47540046],\n",
              "       [0.26086957],\n",
              "       [0.21310069],\n",
              "       [0.09267735],\n",
              "       [0.44078947],\n",
              "       [0.5437643 ],\n",
              "       [0.65703661],\n",
              "       [0.88644165],\n",
              "       [0.90045767],\n",
              "       [       nan],\n",
              "       [0.81378719],\n",
              "       [0.6979405 ],\n",
              "       [0.36870709],\n",
              "       [0.35983982],\n",
              "       [0.11355835],\n",
              "       [0.20051487],\n",
              "       [0.41676201],\n",
              "       [0.51315789],\n",
              "       [0.77745995],\n",
              "       [0.89673913],\n",
              "       [       nan],\n",
              "       [       nan],\n",
              "       [0.78375286],\n",
              "       [0.54433638],\n",
              "       [0.41447368],\n",
              "       [0.21624714],\n",
              "       [0.30406178],\n",
              "       [0.32379863],\n",
              "       [0.3555492 ]])"
            ]
          },
          "metadata": {},
          "execution_count": 234
        }
      ]
    },
    {
      "cell_type": "code",
      "execution_count": 235,
      "metadata": {
        "colab": {
          "base_uri": "https://localhost:8080/"
        },
        "id": "GBSoJbZjO-8Y",
        "outputId": "d679278d-151d-4cf7-8002-eb03f24b1028"
      },
      "outputs": [
        {
          "output_type": "stream",
          "name": "stdout",
          "text": [
            "Epoch 1/10\n",
            "7/7 [==============================] - 4s 48ms/step - loss: nan\n",
            "Epoch 2/10\n",
            "7/7 [==============================] - 0s 48ms/step - loss: nan\n",
            "Epoch 3/10\n",
            "7/7 [==============================] - 0s 50ms/step - loss: nan\n",
            "Epoch 4/10\n",
            "7/7 [==============================] - 0s 50ms/step - loss: nan\n",
            "Epoch 5/10\n",
            "7/7 [==============================] - 0s 48ms/step - loss: nan\n",
            "Epoch 6/10\n",
            "7/7 [==============================] - 0s 51ms/step - loss: nan\n",
            "Epoch 7/10\n",
            "7/7 [==============================] - 0s 51ms/step - loss: nan\n",
            "Epoch 8/10\n",
            "7/7 [==============================] - 0s 52ms/step - loss: nan\n",
            "Epoch 9/10\n",
            "7/7 [==============================] - 0s 69ms/step - loss: nan\n",
            "Epoch 10/10\n",
            "7/7 [==============================] - 0s 68ms/step - loss: nan\n"
          ]
        },
        {
          "output_type": "execute_result",
          "data": {
            "text/plain": [
              "<keras.callbacks.History at 0x7f6233705490>"
            ]
          },
          "metadata": {},
          "execution_count": 235
        }
      ],
      "source": [
        "\n",
        "\n",
        "# Vorbereiten der Trainingsdaten\n",
        "look_back = 60 # Anzahl der vorherigen Monate, die zur Vorhersage verwendet werden\n",
        "X_train = []\n",
        "y_train = []\n",
        "for i in range(look_back, len(train_scaled)):\n",
        "    X_train.append(train_scaled[i-look_back:i, 0])\n",
        "    y_train.append(train_scaled[i, 0])\n",
        "X_train, y_train = np.array(X_train), np.array(y_train)\n",
        "\n",
        "# Umformen der Daten in das erforderliche 3D-Array-Format\n",
        "X_train = np.reshape(X_train, (X_train.shape[0], X_train.shape[1], 1))\n",
        "\n",
        "# Definieren und Trainieren des LSTM-Modells\n",
        "model = Sequential()\n",
        "model.add(LSTM(units=50, return_sequences=True, input_shape=(X_train.shape[1], 1)))\n",
        "model.add(LSTM(units=50))\n",
        "model.add(Dense(units=1))\n",
        "model.compile(optimizer='adam', loss='mean_squared_error')\n",
        "model.fit(X_train, y_train, epochs=10, batch_size=32)\n",
        "\n",
        "\n"
      ]
    },
    {
      "cell_type": "markdown",
      "source": [
        "Modell Validieren"
      ],
      "metadata": {
        "id": "v4Vgo7gcfH0O"
      }
    },
    {
      "cell_type": "code",
      "source": [
        "# Vorbereiten der Testdaten\n",
        "inputs = df[len(df) - len(test) - look_back:].values\n",
        "inputs = scaler.transform(inputs)\n",
        "X_test = []\n",
        "for i in range(look_back, len(inputs)):\n",
        "    X_test.append(inputs[i-look_back:i, 0])\n",
        "X_test = np.array(X_test)\n",
        "X_test = np.reshape(X_test, (X_test.shape[0], X_test.shape[1], 1))\n",
        "\n",
        "# Vorhersage der Temperaturen\n",
        "predicted = model.predict(X_test)\n",
        "predicted = scaler.inverse_transform(predicted)\n",
        "\n",
        "# Plotten der Ergebnisse\n",
        "plt.plot(test.index, test['temp'], color='blue', label='Actual Temperature in '+OBSERVATION_LOCATION_NAME)\n",
        "plt.plot(test.index, predicted, color='red', label='Predicted Temperature in '+OBSERVATION_LOCATION_NAME)\n",
        "plt.title('Testing Temperature Forecast '+OBSERVATION_LOCATION_NAME)\n",
        "plt.xlabel('Date')\n",
        "plt.ylabel('Temperature')\n",
        "plt.legend()\n",
        "plt.show()"
      ],
      "metadata": {
        "colab": {
          "base_uri": "https://localhost:8080/",
          "height": 524
        },
        "id": "NC9ASPDTfHLY",
        "outputId": "40810407-7a65-4bcd-a334-0d6547229c37"
      },
      "execution_count": 240,
      "outputs": [
        {
          "output_type": "stream",
          "name": "stdout",
          "text": [
            "3/3 [==============================] - 1s 284ms/step\n"
          ]
        },
        {
          "output_type": "stream",
          "name": "stderr",
          "text": [
            "/usr/local/lib/python3.9/dist-packages/sklearn/base.py:439: UserWarning: X does not have valid feature names, but MinMaxScaler was fitted with feature names\n",
            "  warnings.warn(\n"
          ]
        },
        {
          "output_type": "display_data",
          "data": {
            "text/plain": [
              "<Figure size 640x480 with 1 Axes>"
            ],
            "image/png": "[encoded data removed]"
          },
          "metadata": {}
        }
      ]
    },
    {
      "cell_type": "markdown",
      "source": [
        "Prognose auf Zukunft anwenden"
      ],
      "metadata": {
        "id": "2kz9VD0rfKGe"
      }
    },
    {
      "cell_type": "code",
      "source": [
        "\n",
        "\n",
        "\n",
        "predicted=None\n",
        "df_future=df[-look_back:]\n",
        "prediction_period=60 #months\n",
        "results = np.zeros(shape=(prediction_period, 1))\n",
        "last_known_dateindex=df_future.iloc[[-1]].index\n",
        "\n",
        "for i in range(0,prediction_period):\n",
        "  F_test = []\n",
        "  inputs=scaler.transform(df_future[-look_back:].values)\n",
        "  F_test.append(inputs)\n",
        "  F_test= np.array(F_test)\n",
        "  F_test = np.reshape(F_test, (F_test.shape[0], F_test.shape[1], 1))\n",
        "  # Vorhersage der Temperaturen n=1\n",
        "  predicted = model.predict(F_test)\n",
        "  predicted = scaler.inverse_transform(predicted)\n",
        "  predicted\n",
        "  results[i]=predicted\n",
        "\n",
        "  # add predicted element to df_future\n",
        "  next_date = last_known_dateindex + pd.DateOffset(months=i+1)\n",
        "  df_future=pd.concat([df_future,pd.DataFrame({'temp':predicted[0]}, index=next_date)])\n",
        "  print(\"hier:\"+str(next_date[0]))\n",
        "\n",
        "results"
      ],
      "metadata": {
        "colab": {
          "base_uri": "https://localhost:8080/"
        },
        "id": "FeAAAhfWmkzy",
        "outputId": "ab4397c2-f0b2-4330-8ee9-762cdb590e83"
      },
      "execution_count": 237,
      "outputs": [
        {
          "output_type": "stream",
          "name": "stdout",
          "text": [
            "1/1 [==============================] - 0s 23ms/step\n",
            "hier:2023-04-01 00:00:00\n",
            "1/1 [==============================] - 0s 27ms/step\n"
          ]
        },
        {
          "output_type": "stream",
          "name": "stderr",
          "text": [
            "/usr/local/lib/python3.9/dist-packages/sklearn/base.py:439: UserWarning: X does not have valid feature names, but MinMaxScaler was fitted with feature names\n",
            "  warnings.warn(\n",
            "/usr/local/lib/python3.9/dist-packages/sklearn/base.py:439: UserWarning: X does not have valid feature names, but MinMaxScaler was fitted with feature names\n",
            "  warnings.warn(\n",
            "/usr/local/lib/python3.9/dist-packages/sklearn/base.py:439: UserWarning: X does not have valid feature names, but MinMaxScaler was fitted with feature names\n",
            "  warnings.warn(\n"
          ]
        },
        {
          "output_type": "stream",
          "name": "stdout",
          "text": [
            "hier:2023-05-01 00:00:00\n",
            "1/1 [==============================] - 0s 26ms/step\n",
            "hier:2023-06-01 00:00:00\n",
            "1/1 [==============================] - 0s 25ms/step\n",
            "hier:2023-07-01 00:00:00\n",
            "1/1 [==============================] - 0s 27ms/step\n",
            "hier:2023-08-01 00:00:00\n",
            "1/1 [==============================] - ETA: 0s"
          ]
        },
        {
          "output_type": "stream",
          "name": "stderr",
          "text": [
            "/usr/local/lib/python3.9/dist-packages/sklearn/base.py:439: UserWarning: X does not have valid feature names, but MinMaxScaler was fitted with feature names\n",
            "  warnings.warn(\n",
            "/usr/local/lib/python3.9/dist-packages/sklearn/base.py:439: UserWarning: X does not have valid feature names, but MinMaxScaler was fitted with feature names\n",
            "  warnings.warn(\n",
            "/usr/local/lib/python3.9/dist-packages/sklearn/base.py:439: UserWarning: X does not have valid feature names, but MinMaxScaler was fitted with feature names\n",
            "  warnings.warn(\n"
          ]
        },
        {
          "output_type": "stream",
          "name": "stdout",
          "text": [
            "1/1 [==============================] - 0s 30ms/step\n",
            "hier:2023-09-01 00:00:00\n",
            "1/1 [==============================] - 0s 26ms/step\n",
            "hier:2023-10-01 00:00:00\n",
            "1/1 [==============================] - 0s 24ms/step\n",
            "hier:2023-11-01 00:00:00\n",
            "1/1 [==============================] - 0s 26ms/step\n",
            "hier:2023-12-01 00:00:00\n"
          ]
        },
        {
          "output_type": "stream",
          "name": "stderr",
          "text": [
            "/usr/local/lib/python3.9/dist-packages/sklearn/base.py:439: UserWarning: X does not have valid feature names, but MinMaxScaler was fitted with feature names\n",
            "  warnings.warn(\n",
            "/usr/local/lib/python3.9/dist-packages/sklearn/base.py:439: UserWarning: X does not have valid feature names, but MinMaxScaler was fitted with feature names\n",
            "  warnings.warn(\n",
            "/usr/local/lib/python3.9/dist-packages/sklearn/base.py:439: UserWarning: X does not have valid feature names, but MinMaxScaler was fitted with feature names\n",
            "  warnings.warn(\n",
            "/usr/local/lib/python3.9/dist-packages/sklearn/base.py:439: UserWarning: X does not have valid feature names, but MinMaxScaler was fitted with feature names\n",
            "  warnings.warn(\n"
          ]
        },
        {
          "output_type": "stream",
          "name": "stdout",
          "text": [
            "1/1 [==============================] - 0s 23ms/step\n",
            "hier:2024-01-01 00:00:00\n",
            "1/1 [==============================] - 0s 27ms/step\n",
            "hier:2024-02-01 00:00:00\n",
            "1/1 [==============================] - 0s 27ms/step\n",
            "hier:2024-03-01 00:00:00\n"
          ]
        },
        {
          "output_type": "stream",
          "name": "stderr",
          "text": [
            "/usr/local/lib/python3.9/dist-packages/sklearn/base.py:439: UserWarning: X does not have valid feature names, but MinMaxScaler was fitted with feature names\n",
            "  warnings.warn(\n",
            "/usr/local/lib/python3.9/dist-packages/sklearn/base.py:439: UserWarning: X does not have valid feature names, but MinMaxScaler was fitted with feature names\n",
            "  warnings.warn(\n",
            "/usr/local/lib/python3.9/dist-packages/sklearn/base.py:439: UserWarning: X does not have valid feature names, but MinMaxScaler was fitted with feature names\n",
            "  warnings.warn(\n"
          ]
        },
        {
          "output_type": "stream",
          "name": "stdout",
          "text": [
            "1/1 [==============================] - 0s 28ms/step\n",
            "hier:2024-04-01 00:00:00\n",
            "1/1 [==============================] - 0s 25ms/step\n",
            "hier:2024-05-01 00:00:00\n",
            "1/1 [==============================] - 0s 25ms/step\n",
            "hier:2024-06-01 00:00:00\n",
            "1/1 [==============================] - ETA: 0s"
          ]
        },
        {
          "output_type": "stream",
          "name": "stderr",
          "text": [
            "/usr/local/lib/python3.9/dist-packages/sklearn/base.py:439: UserWarning: X does not have valid feature names, but MinMaxScaler was fitted with feature names\n",
            "  warnings.warn(\n",
            "/usr/local/lib/python3.9/dist-packages/sklearn/base.py:439: UserWarning: X does not have valid feature names, but MinMaxScaler was fitted with feature names\n",
            "  warnings.warn(\n",
            "/usr/local/lib/python3.9/dist-packages/sklearn/base.py:439: UserWarning: X does not have valid feature names, but MinMaxScaler was fitted with feature names\n",
            "  warnings.warn(\n"
          ]
        },
        {
          "output_type": "stream",
          "name": "stdout",
          "text": [
            "\b\b\b\b\b\b\b\b\b\b\b\b\b\b\b\b\b\b\b\b\b\b\b\b\b\b\b\b\b\b\b\b\b\b\b\b\b\b\b\b\b\b\b\b\b\b\r1/1 [==============================] - 0s 31ms/step\n",
            "hier:2024-07-01 00:00:00\n",
            "1/1 [==============================] - 0s 34ms/step\n",
            "hier:2024-08-01 00:00:00\n",
            "1/1 [==============================] - 0s 28ms/step\n",
            "hier:2024-09-01 00:00:00\n",
            "1/1 [==============================] - 0s 24ms/step\n",
            "hier:2024-10-01 00:00:00\n"
          ]
        },
        {
          "output_type": "stream",
          "name": "stderr",
          "text": [
            "/usr/local/lib/python3.9/dist-packages/sklearn/base.py:439: UserWarning: X does not have valid feature names, but MinMaxScaler was fitted with feature names\n",
            "  warnings.warn(\n",
            "/usr/local/lib/python3.9/dist-packages/sklearn/base.py:439: UserWarning: X does not have valid feature names, but MinMaxScaler was fitted with feature names\n",
            "  warnings.warn(\n",
            "/usr/local/lib/python3.9/dist-packages/sklearn/base.py:439: UserWarning: X does not have valid feature names, but MinMaxScaler was fitted with feature names\n",
            "  warnings.warn(\n",
            "/usr/local/lib/python3.9/dist-packages/sklearn/base.py:439: UserWarning: X does not have valid feature names, but MinMaxScaler was fitted with feature names\n",
            "  warnings.warn(\n"
          ]
        },
        {
          "output_type": "stream",
          "name": "stdout",
          "text": [
            "1/1 [==============================] - 0s 29ms/step\n",
            "hier:2024-11-01 00:00:00\n",
            "1/1 [==============================] - 0s 24ms/step\n",
            "hier:2024-12-01 00:00:00\n",
            "1/1 [==============================] - 0s 26ms/step\n",
            "hier:2025-01-01 00:00:00\n",
            "1/1 [==============================] - 0s 26ms/step\n",
            "hier:2025-02-01 00:00:00\n"
          ]
        },
        {
          "output_type": "stream",
          "name": "stderr",
          "text": [
            "/usr/local/lib/python3.9/dist-packages/sklearn/base.py:439: UserWarning: X does not have valid feature names, but MinMaxScaler was fitted with feature names\n",
            "  warnings.warn(\n",
            "/usr/local/lib/python3.9/dist-packages/sklearn/base.py:439: UserWarning: X does not have valid feature names, but MinMaxScaler was fitted with feature names\n",
            "  warnings.warn(\n",
            "/usr/local/lib/python3.9/dist-packages/sklearn/base.py:439: UserWarning: X does not have valid feature names, but MinMaxScaler was fitted with feature names\n",
            "  warnings.warn(\n",
            "/usr/local/lib/python3.9/dist-packages/sklearn/base.py:439: UserWarning: X does not have valid feature names, but MinMaxScaler was fitted with feature names\n",
            "  warnings.warn(\n"
          ]
        },
        {
          "output_type": "stream",
          "name": "stdout",
          "text": [
            "1/1 [==============================] - 0s 25ms/step\n",
            "hier:2025-03-01 00:00:00\n",
            "1/1 [==============================] - 0s 30ms/step\n",
            "hier:2025-04-01 00:00:00\n",
            "1/1 [==============================] - 0s 24ms/step\n",
            "hier:2025-05-01 00:00:00\n",
            "1/1 [==============================] - 0s 23ms/step\n"
          ]
        },
        {
          "output_type": "stream",
          "name": "stderr",
          "text": [
            "/usr/local/lib/python3.9/dist-packages/sklearn/base.py:439: UserWarning: X does not have valid feature names, but MinMaxScaler was fitted with feature names\n",
            "  warnings.warn(\n",
            "/usr/local/lib/python3.9/dist-packages/sklearn/base.py:439: UserWarning: X does not have valid feature names, but MinMaxScaler was fitted with feature names\n",
            "  warnings.warn(\n",
            "/usr/local/lib/python3.9/dist-packages/sklearn/base.py:439: UserWarning: X does not have valid feature names, but MinMaxScaler was fitted with feature names\n",
            "  warnings.warn(\n"
          ]
        },
        {
          "output_type": "stream",
          "name": "stdout",
          "text": [
            "hier:2025-06-01 00:00:00\n",
            "1/1 [==============================] - 0s 28ms/step\n",
            "hier:2025-07-01 00:00:00\n",
            "1/1 [==============================] - 0s 25ms/step\n",
            "hier:2025-08-01 00:00:00\n",
            "1/1 [==============================] - 0s 27ms/step\n"
          ]
        },
        {
          "output_type": "stream",
          "name": "stderr",
          "text": [
            "/usr/local/lib/python3.9/dist-packages/sklearn/base.py:439: UserWarning: X does not have valid feature names, but MinMaxScaler was fitted with feature names\n",
            "  warnings.warn(\n",
            "/usr/local/lib/python3.9/dist-packages/sklearn/base.py:439: UserWarning: X does not have valid feature names, but MinMaxScaler was fitted with feature names\n",
            "  warnings.warn(\n",
            "/usr/local/lib/python3.9/dist-packages/sklearn/base.py:439: UserWarning: X does not have valid feature names, but MinMaxScaler was fitted with feature names\n",
            "  warnings.warn(\n"
          ]
        },
        {
          "output_type": "stream",
          "name": "stdout",
          "text": [
            "hier:2025-09-01 00:00:00\n",
            "1/1 [==============================] - 0s 24ms/step\n",
            "hier:2025-10-01 00:00:00\n",
            "1/1 [==============================] - 0s 23ms/step\n",
            "hier:2025-11-01 00:00:00\n",
            "1/1 [==============================] - 0s 26ms/step\n",
            "hier:2025-12-01 00:00:00\n"
          ]
        },
        {
          "output_type": "stream",
          "name": "stderr",
          "text": [
            "/usr/local/lib/python3.9/dist-packages/sklearn/base.py:439: UserWarning: X does not have valid feature names, but MinMaxScaler was fitted with feature names\n",
            "  warnings.warn(\n",
            "/usr/local/lib/python3.9/dist-packages/sklearn/base.py:439: UserWarning: X does not have valid feature names, but MinMaxScaler was fitted with feature names\n",
            "  warnings.warn(\n",
            "/usr/local/lib/python3.9/dist-packages/sklearn/base.py:439: UserWarning: X does not have valid feature names, but MinMaxScaler was fitted with feature names\n",
            "  warnings.warn(\n",
            "/usr/local/lib/python3.9/dist-packages/sklearn/base.py:439: UserWarning: X does not have valid feature names, but MinMaxScaler was fitted with feature names\n",
            "  warnings.warn(\n"
          ]
        },
        {
          "output_type": "stream",
          "name": "stdout",
          "text": [
            "1/1 [==============================] - 0s 22ms/step\n",
            "hier:2026-01-01 00:00:00\n",
            "1/1 [==============================] - 0s 25ms/step\n",
            "hier:2026-02-01 00:00:00\n",
            "1/1 [==============================] - 0s 23ms/step\n",
            "hier:2026-03-01 00:00:00\n",
            "1/1 [==============================] - 0s 22ms/step\n",
            "hier:2026-04-01 00:00:00\n"
          ]
        },
        {
          "output_type": "stream",
          "name": "stderr",
          "text": [
            "/usr/local/lib/python3.9/dist-packages/sklearn/base.py:439: UserWarning: X does not have valid feature names, but MinMaxScaler was fitted with feature names\n",
            "  warnings.warn(\n",
            "/usr/local/lib/python3.9/dist-packages/sklearn/base.py:439: UserWarning: X does not have valid feature names, but MinMaxScaler was fitted with feature names\n",
            "  warnings.warn(\n",
            "/usr/local/lib/python3.9/dist-packages/sklearn/base.py:439: UserWarning: X does not have valid feature names, but MinMaxScaler was fitted with feature names\n",
            "  warnings.warn(\n",
            "/usr/local/lib/python3.9/dist-packages/sklearn/base.py:439: UserWarning: X does not have valid feature names, but MinMaxScaler was fitted with feature names\n",
            "  warnings.warn(\n"
          ]
        },
        {
          "output_type": "stream",
          "name": "stdout",
          "text": [
            "1/1 [==============================] - 0s 22ms/step\n",
            "hier:2026-05-01 00:00:00\n",
            "1/1 [==============================] - 0s 27ms/step\n",
            "hier:2026-06-01 00:00:00\n",
            "1/1 [==============================] - 0s 29ms/step\n",
            "hier:2026-07-01 00:00:00\n",
            "1/1 [==============================] - 0s 28ms/step\n"
          ]
        },
        {
          "output_type": "stream",
          "name": "stderr",
          "text": [
            "/usr/local/lib/python3.9/dist-packages/sklearn/base.py:439: UserWarning: X does not have valid feature names, but MinMaxScaler was fitted with feature names\n",
            "  warnings.warn(\n",
            "/usr/local/lib/python3.9/dist-packages/sklearn/base.py:439: UserWarning: X does not have valid feature names, but MinMaxScaler was fitted with feature names\n",
            "  warnings.warn(\n",
            "/usr/local/lib/python3.9/dist-packages/sklearn/base.py:439: UserWarning: X does not have valid feature names, but MinMaxScaler was fitted with feature names\n",
            "  warnings.warn(\n"
          ]
        },
        {
          "output_type": "stream",
          "name": "stdout",
          "text": [
            "hier:2026-08-01 00:00:00\n",
            "1/1 [==============================] - 0s 27ms/step\n",
            "hier:2026-09-01 00:00:00\n",
            "1/1 [==============================] - 0s 25ms/step\n",
            "hier:2026-10-01 00:00:00\n",
            "1/1 [==============================] - 0s 24ms/step\n",
            "hier:2026-11-01 00:00:00\n"
          ]
        },
        {
          "output_type": "stream",
          "name": "stderr",
          "text": [
            "/usr/local/lib/python3.9/dist-packages/sklearn/base.py:439: UserWarning: X does not have valid feature names, but MinMaxScaler was fitted with feature names\n",
            "  warnings.warn(\n",
            "/usr/local/lib/python3.9/dist-packages/sklearn/base.py:439: UserWarning: X does not have valid feature names, but MinMaxScaler was fitted with feature names\n",
            "  warnings.warn(\n",
            "/usr/local/lib/python3.9/dist-packages/sklearn/base.py:439: UserWarning: X does not have valid feature names, but MinMaxScaler was fitted with feature names\n",
            "  warnings.warn(\n",
            "/usr/local/lib/python3.9/dist-packages/sklearn/base.py:439: UserWarning: X does not have valid feature names, but MinMaxScaler was fitted with feature names\n",
            "  warnings.warn(\n"
          ]
        },
        {
          "output_type": "stream",
          "name": "stdout",
          "text": [
            "1/1 [==============================] - 0s 27ms/step\n",
            "hier:2026-12-01 00:00:00\n",
            "1/1 [==============================] - 0s 28ms/step\n",
            "hier:2027-01-01 00:00:00\n",
            "1/1 [==============================] - 0s 33ms/step\n",
            "hier:2027-02-01 00:00:00\n"
          ]
        },
        {
          "output_type": "stream",
          "name": "stderr",
          "text": [
            "/usr/local/lib/python3.9/dist-packages/sklearn/base.py:439: UserWarning: X does not have valid feature names, but MinMaxScaler was fitted with feature names\n",
            "  warnings.warn(\n",
            "/usr/local/lib/python3.9/dist-packages/sklearn/base.py:439: UserWarning: X does not have valid feature names, but MinMaxScaler was fitted with feature names\n",
            "  warnings.warn(\n",
            "/usr/local/lib/python3.9/dist-packages/sklearn/base.py:439: UserWarning: X does not have valid feature names, but MinMaxScaler was fitted with feature names\n",
            "  warnings.warn(\n"
          ]
        },
        {
          "output_type": "stream",
          "name": "stdout",
          "text": [
            "1/1 [==============================] - 0s 29ms/step\n",
            "hier:2027-03-01 00:00:00\n",
            "1/1 [==============================] - 0s 30ms/step\n",
            "hier:2027-04-01 00:00:00\n",
            "1/1 [==============================] - 0s 26ms/step\n",
            "hier:2027-05-01 00:00:00\n",
            "1/1 [==============================] - 0s 27ms/step\n"
          ]
        },
        {
          "output_type": "stream",
          "name": "stderr",
          "text": [
            "/usr/local/lib/python3.9/dist-packages/sklearn/base.py:439: UserWarning: X does not have valid feature names, but MinMaxScaler was fitted with feature names\n",
            "  warnings.warn(\n",
            "/usr/local/lib/python3.9/dist-packages/sklearn/base.py:439: UserWarning: X does not have valid feature names, but MinMaxScaler was fitted with feature names\n",
            "  warnings.warn(\n",
            "/usr/local/lib/python3.9/dist-packages/sklearn/base.py:439: UserWarning: X does not have valid feature names, but MinMaxScaler was fitted with feature names\n",
            "  warnings.warn(\n"
          ]
        },
        {
          "output_type": "stream",
          "name": "stdout",
          "text": [
            "hier:2027-06-01 00:00:00\n",
            "1/1 [==============================] - 0s 28ms/step\n",
            "hier:2027-07-01 00:00:00\n",
            "1/1 [==============================] - 0s 26ms/step\n",
            "hier:2027-08-01 00:00:00\n",
            "1/1 [==============================] - 0s 27ms/step\n"
          ]
        },
        {
          "output_type": "stream",
          "name": "stderr",
          "text": [
            "/usr/local/lib/python3.9/dist-packages/sklearn/base.py:439: UserWarning: X does not have valid feature names, but MinMaxScaler was fitted with feature names\n",
            "  warnings.warn(\n",
            "/usr/local/lib/python3.9/dist-packages/sklearn/base.py:439: UserWarning: X does not have valid feature names, but MinMaxScaler was fitted with feature names\n",
            "  warnings.warn(\n",
            "/usr/local/lib/python3.9/dist-packages/sklearn/base.py:439: UserWarning: X does not have valid feature names, but MinMaxScaler was fitted with feature names\n",
            "  warnings.warn(\n"
          ]
        },
        {
          "output_type": "stream",
          "name": "stdout",
          "text": [
            "hier:2027-09-01 00:00:00\n",
            "1/1 [==============================] - 0s 27ms/step\n",
            "hier:2027-10-01 00:00:00\n",
            "1/1 [==============================] - 0s 27ms/step\n",
            "hier:2027-11-01 00:00:00\n"
          ]
        },
        {
          "output_type": "stream",
          "name": "stderr",
          "text": [
            "/usr/local/lib/python3.9/dist-packages/sklearn/base.py:439: UserWarning: X does not have valid feature names, but MinMaxScaler was fitted with feature names\n",
            "  warnings.warn(\n",
            "/usr/local/lib/python3.9/dist-packages/sklearn/base.py:439: UserWarning: X does not have valid feature names, but MinMaxScaler was fitted with feature names\n",
            "  warnings.warn(\n",
            "/usr/local/lib/python3.9/dist-packages/sklearn/base.py:439: UserWarning: X does not have valid feature names, but MinMaxScaler was fitted with feature names\n",
            "  warnings.warn(\n"
          ]
        },
        {
          "output_type": "stream",
          "name": "stdout",
          "text": [
            "1/1 [==============================] - 0s 32ms/step\n",
            "hier:2027-12-01 00:00:00\n",
            "1/1 [==============================] - 0s 25ms/step\n",
            "hier:2028-01-01 00:00:00\n",
            "1/1 [==============================] - 0s 25ms/step\n",
            "hier:2028-02-01 00:00:00\n",
            "1/1 [==============================] - 0s 27ms/step\n",
            "hier:2028-03-01 00:00:00\n"
          ]
        },
        {
          "output_type": "stream",
          "name": "stderr",
          "text": [
            "/usr/local/lib/python3.9/dist-packages/sklearn/base.py:439: UserWarning: X does not have valid feature names, but MinMaxScaler was fitted with feature names\n",
            "  warnings.warn(\n",
            "/usr/local/lib/python3.9/dist-packages/sklearn/base.py:439: UserWarning: X does not have valid feature names, but MinMaxScaler was fitted with feature names\n",
            "  warnings.warn(\n",
            "/usr/local/lib/python3.9/dist-packages/sklearn/base.py:439: UserWarning: X does not have valid feature names, but MinMaxScaler was fitted with feature names\n",
            "  warnings.warn(\n"
          ]
        },
        {
          "output_type": "execute_result",
          "data": {
            "text/plain": [
              "array([[nan],\n",
              "       [nan],\n",
              "       [nan],\n",
              "       [nan],\n",
              "       [nan],\n",
              "       [nan],\n",
              "       [nan],\n",
              "       [nan],\n",
              "       [nan],\n",
              "       [nan],\n",
              "       [nan],\n",
              "       [nan],\n",
              "       [nan],\n",
              "       [nan],\n",
              "       [nan],\n",
              "       [nan],\n",
              "       [nan],\n",
              "       [nan],\n",
              "       [nan],\n",
              "       [nan],\n",
              "       [nan],\n",
              "       [nan],\n",
              "       [nan],\n",
              "       [nan],\n",
              "       [nan],\n",
              "       [nan],\n",
              "       [nan],\n",
              "       [nan],\n",
              "       [nan],\n",
              "       [nan],\n",
              "       [nan],\n",
              "       [nan],\n",
              "       [nan],\n",
              "       [nan],\n",
              "       [nan],\n",
              "       [nan],\n",
              "       [nan],\n",
              "       [nan],\n",
              "       [nan],\n",
              "       [nan],\n",
              "       [nan],\n",
              "       [nan],\n",
              "       [nan],\n",
              "       [nan],\n",
              "       [nan],\n",
              "       [nan],\n",
              "       [nan],\n",
              "       [nan],\n",
              "       [nan],\n",
              "       [nan],\n",
              "       [nan],\n",
              "       [nan],\n",
              "       [nan],\n",
              "       [nan],\n",
              "       [nan],\n",
              "       [nan],\n",
              "       [nan],\n",
              "       [nan],\n",
              "       [nan],\n",
              "       [nan]])"
            ]
          },
          "metadata": {},
          "execution_count": 237
        }
      ]
    },
    {
      "cell_type": "code",
      "source": [
        "\n",
        "\n",
        "# Plotten der Ergebnisse\n",
        "plt.plot(df_future[:look_back].index, df_future[:look_back], color='blue', label='Actual Temperature in '+OBSERVATION_LOCATION_NAME)\n",
        "plt.plot(df_future[look_back:].index, df_future[look_back:], color='red', label='Predicted Temperature in '+OBSERVATION_LOCATION_NAME)\n",
        "plt.title('Testing Temperature Forecast '+OBSERVATION_LOCATION_NAME)\n",
        "plt.xlabel('Date')\n",
        "plt.ylabel('Temperature')\n",
        "plt.legend()\n",
        "plt.show()"
      ],
      "metadata": {
        "colab": {
          "base_uri": "https://localhost:8080/",
          "height": 472
        },
        "id": "CnK5_k-cfLkm",
        "outputId": "82f01304-94e6-4df0-cb22-8aebff4afd97"
      },
      "execution_count": 238,
      "outputs": [
        {
          "output_type": "display_data",
          "data": {
            "text/plain": [
              "<Figure size 640x480 with 1 Axes>"
            ],
            "image/png": "[encoded data removed]"
          },
          "metadata": {}
        }
      ]
    },
    {
      "cell_type": "markdown",
      "source": [
        "test"
      ],
      "metadata": {
        "id": "fJ4PUw6WPrvj"
      }
    }
  ]
}